{
 "cells": [
  {
   "cell_type": "markdown",
   "id": "3d04c4b6",
   "metadata": {},
   "source": [
    "CHILD NUTRITION CALCULATOR"
   ]
  },
  {
   "cell_type": "code",
   "execution_count": 54,
   "id": "79753ea9",
   "metadata": {},
   "outputs": [],
   "source": [
    "#entering the personal information\n",
    "def enteringPersionalDetails():\n",
    "    Name = input(\"Enter the Name: \")\n",
    "    Age = int(input(\"Enter the Age:\"))   \n",
    "    Gender = input(\"Enter the Gender: \")\n",
    "    height = float(input(\"Enter the height:\"))\n",
    "    weight = float(input(\"Enter the weight: \"))\n",
    "    return (Name,Age,Gender,height,weight)"
   ]
  },
  {
   "cell_type": "markdown",
   "id": "98b5816f",
   "metadata": {},
   "source": [
    "Milk: 100 cal/ 100g\n",
    "o Egg: 155 cal/ 100g \n",
    "o Rice: 130 cal/ 100g \n",
    "o Lentils: 113 cal/ 100g\n",
    "o Vegetable: 85 cal/100g \n",
    "o Meat: 143 cal/ 100g\n"
   ]
  },
  {
   "cell_type": "code",
   "execution_count": 55,
   "id": "87f6f0c7",
   "metadata": {},
   "outputs": [],
   "source": [
    "#diet intake by the person\n",
    "def PersonCalorieConsumption():\n",
    "    milk = input(\"milk :\")\n",
    "    egg = input(\"egg :\")\n",
    "    Rice = input(\"Rice :\")\n",
    "    lentils = input(\"lentils :\")\n",
    "    Vegetables = input(\"vegetables :\")\n",
    "    Meat = input(\"Meat :\")\n",
    "    return (milk, egg, Rice, lentils, Vegetables, Meat)"
   ]
  },
  {
   "cell_type": "code",
   "execution_count": 57,
   "id": "3a227f72",
   "metadata": {},
   "outputs": [],
   "source": [
    "def calculateCalories(milk, egg, Rice, lentils, Vegetables, Meat ):\n",
    "    calories = 0\n",
    "    calories +=(100/100)*milk \n",
    "    calories +=(143/100)*Meat\n",
    "    calories +=(113/100)*lentils\n",
    "    calories +=(85/100)*vegetables\n",
    "    calories +=(155/100)*egg\n",
    "    calories +=(130/100)*rice\n",
    "    return calories\n",
    "    "
   ]
  },
  {
   "cell_type": "code",
   "execution_count": 58,
   "id": "85f7a9d2",
   "metadata": {},
   "outputs": [],
   "source": [
    "def GetBMIValue(weight,height):\n",
    "    returnweight/(height*height)"
   ]
  },
  {
   "cell_type": "code",
   "execution_count": null,
   "id": "a017bd45",
   "metadata": {},
   "outputs": [],
   "source": [
    "Name,Age,Gender,height,weight = enteringPersionalDetails()\n",
    "milk,egg,Rice,lentils,vegtables,Meat = PersonCalorieConsumption()\n",
    "\n",
    "BMIvalue = getBMIvalue(weight,height)\n",
    "calories = calculateCalories(milk, egg, Rice, lentils, Vegetables, Meat )\n",
    "\n",
    "if (bmiValue < 16):\n",
    "    print(\"BMI is \"+ str(bmiValue)+\": Severely Underweight\")\n",
    "elif (bmiValue < 18.5):\n",
    "    print(\"BMI is\"+ str(bmiValue)+ \": Underweight\")\n",
    "elif (bmiValue< 25):\n",
    "    print (\"BMI is\"+ str(bmiValue)+\": Healthy\")\n",
    "elif (bmiValue< 30):\n",
    "     print(\"BMI is\"+ str(bmiValue)+\":Overweight\")\n",
    "else:\n",
    "    print(\"BMI is\"+ str(bmiValue)+\": Obese\")\n",
    "    \n",
    "    \n",
    "       \n",
    "    #the Diet  quantity intake by the person\n",
    "\n",
    "if (Age <=2):\n",
    "    if (calories <800):\n",
    "        print(\"The person under nouried \")\n",
    "    else :\n",
    "        print(\"the person Healthy\")\n",
    "elif Age <=4:\n",
    "    if(calories <1400):\n",
    "        print(\"The person under nouried\")\n",
    "    else :\n",
    "        print(\"the person Healthy\")\n",
    "elif (Age <=8):\n",
    "    if (calories < 1800):\n",
    "        print(\"The person under nourised\")\n",
    "    else:\n",
    "        print(\"the person healthy\")\n",
    "\n",
    "    \n",
    " "
   ]
  },
  {
   "cell_type": "markdown",
   "id": "4a3ee55f",
   "metadata": {},
   "source": []
  },
  {
   "cell_type": "code",
   "execution_count": null,
   "id": "f95001b6",
   "metadata": {},
   "outputs": [],
   "source": []
  },
  {
   "cell_type": "code",
   "execution_count": null,
   "id": "39829732",
   "metadata": {},
   "outputs": [],
   "source": [
    "\n",
    "            "
   ]
  },
  {
   "cell_type": "code",
   "execution_count": null,
   "id": "4e8690aa",
   "metadata": {},
   "outputs": [],
   "source": []
  },
  {
   "cell_type": "code",
   "execution_count": null,
   "id": "827ffed0",
   "metadata": {},
   "outputs": [],
   "source": []
  }
 ],
 "metadata": {
  "kernelspec": {
   "display_name": "Python 3 (ipykernel)",
   "language": "python",
   "name": "python3"
  },
  "language_info": {
   "codemirror_mode": {
    "name": "ipython",
    "version": 3
   },
   "file_extension": ".py",
   "mimetype": "text/x-python",
   "name": "python",
   "nbconvert_exporter": "python",
   "pygments_lexer": "ipython3",
   "version": "3.9.7"
  }
 },
 "nbformat": 4,
 "nbformat_minor": 5
}
